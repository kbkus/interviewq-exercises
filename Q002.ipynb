{
 "metadata": {
  "language_info": {
   "codemirror_mode": {
    "name": "ipython",
    "version": 3
   },
   "file_extension": ".py",
   "mimetype": "text/x-python",
   "name": "python",
   "nbconvert_exporter": "python",
   "pygments_lexer": "ipython3",
   "version": "3.7.4-final"
  },
  "orig_nbformat": 2,
  "kernelspec": {
   "name": "python3",
   "display_name": "Python 3"
  }
 },
 "nbformat": 4,
 "nbformat_minor": 2,
 "cells": [
  {
   "source": [
    "# Calculating earnings with Python\n",
    "\n",
    "Suppose an individual is taxed 30% if earnings for a given week are greater than or equal to $2,000. \n",
    "* If earnings land less than $2,000 for the week, the individual is taxed at a lower rate of 15%.\n",
    "\n",
    "Write a function using Python to calculate both the pre-tax and post-tax earnings for a given individual, with the ability to feed in the hourly wage and the weekly hours as inputs.\n",
    "\n",
    "For example, if an individual earns $55/hour and works for 40 hours, the function should return:\n",
    "\n",
    "* Pre-tax earnings were 55*40 = $2,200 for the week.\n",
    "* Post-tax earnings were $2,200*.7 = $1,540 for the week\n",
    " (since we fall in higher tax bracket here)"
   ],
   "cell_type": "markdown",
   "metadata": {}
  },
  {
   "cell_type": "code",
   "execution_count": 11,
   "metadata": {},
   "outputs": [],
   "source": [
    "def earnings(wage, hours):\n",
    "    '''\n",
    "    Function takes in the hourly wage (wage) and number of hours weekly worked (hours) and calculates the pre-tax and post-tax earnings\n",
    "    '''\n",
    "    # calculate the pre-tax earnings for the week\n",
    "    pre_tax = wage * hours\n",
    "    # if you make >= 2000 in a week, you are taxed 30%\n",
    "    if pre_tax >= 2000:\n",
    "        post_tax = pre_tax * 0.7\n",
    "    # if you make less than 2000 in a week, you are taxed 15%\n",
    "    else:\n",
    "        post_tax = pre_tax * 0.85\n",
    "    return (f'pre-tax earnings are: ${pre_tax}, post-tax earnings are: ${post_tax}')"
   ]
  },
  {
   "cell_type": "code",
   "execution_count": 13,
   "metadata": {},
   "outputs": [
    {
     "output_type": "execute_result",
     "data": {
      "text/plain": [
       "'pre-tax earnings are: $2200, post-tax earnings are: $1540.0'"
      ]
     },
     "metadata": {},
     "execution_count": 13
    }
   ],
   "source": [
    "# test function with a wage of $55/hr for a 40 hr work week\n",
    "earnings(55, 40)"
   ]
  },
  {
   "cell_type": "code",
   "execution_count": null,
   "metadata": {},
   "outputs": [],
   "source": []
  }
 ]
}