{
 "metadata": {
  "language_info": {
   "codemirror_mode": {
    "name": "ipython",
    "version": 3
   },
   "file_extension": ".py",
   "mimetype": "text/x-python",
   "name": "python",
   "nbconvert_exporter": "python",
   "pygments_lexer": "ipython3",
   "version": 3
  },
  "orig_nbformat": 2
 },
 "nbformat": 4,
 "nbformat_minor": 2,
 "cells": [
  {
   "source": [
    "# Amoeba Population\n",
    "\n",
    "A population of amoebas starts with 1. After a single period, assume the amoeba can divide into 1, 2, 3, or 0 (it can die) with equal probability. What is the probability that the entire population dies out eventually?\n"
   ],
   "cell_type": "markdown",
   "metadata": {}
  },
  {
   "source": [
    "* There are four options of equal probability (25% chance of each option)\n",
    "\n",
    "The probability that all amoebas die should be:\n",
    "P(A) = P(A | B1) * P(B1) + P(A | B2) * P(B2) + P(A | B3) * P(B3) + P(A | B0) * P(B0)\n",
    "* Since the probability of A (all dying) given it splits at all (B1, B2, or B3) is equal to 0, the only part of the equation to be concerned about is P(A | B0) * P(B0)"
   ],
   "cell_type": "markdown",
   "metadata": {}
  },
  {
   "cell_type": "code",
   "execution_count": null,
   "metadata": {},
   "outputs": [],
   "source": []
  }
 ]
}